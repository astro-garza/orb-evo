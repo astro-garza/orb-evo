{
  "nbformat": 4,
  "nbformat_minor": 0,
  "metadata": {
    "colab": {
      "name": "vae-binary.ipynb",
      "version": "0.3.2",
      "provenance": [],
      "collapsed_sections": [],
      "machine_shape": "hm"
    },
    "kernelspec": {
      "name": "python2",
      "display_name": "Python 2"
    },
    "accelerator": "GPU"
  },
  "cells": [
    {
      "cell_type": "code",
      "metadata": {
        "id": "eqLpp_XSyj0p",
        "colab_type": "code",
        "colab": {}
      },
      "source": [
        "!pip install deepdish"
      ],
      "execution_count": 0,
      "outputs": []
    },
    {
      "cell_type": "code",
      "metadata": {
        "id": "IwSK8ZwnGd8e",
        "colab_type": "code",
        "outputId": "7d68a379-e265-47df-f23e-e8b96dc55f7c",
        "colab": {
          "base_uri": "https://localhost:8080/",
          "height": 34
        }
      },
      "source": [
        "import tensorflow as tf\n",
        "import keras\n",
        "from keras.layers import Lambda, Input, Dense\n",
        "from keras.models import Model\n",
        "from keras.datasets import mnist\n",
        "from keras.callbacks import EarlyStopping\n",
        "from keras.losses import mse, binary_crossentropy\n",
        "from keras.utils import plot_model\n",
        "from keras import backend as K\n",
        "\n",
        "import matplotlib.pyplot as plt\n",
        "import numpy as np\n",
        "import os\n",
        "import deepdish.io as io\n",
        "from sklearn.metrics import roc_curve, auc\n",
        "import random"
      ],
      "execution_count": 0,
      "outputs": [
        {
          "output_type": "stream",
          "text": [
            "Using TensorFlow backend.\n"
          ],
          "name": "stderr"
        }
      ]
    },
    {
      "cell_type": "code",
      "metadata": {
        "id": "mqoGQPY2J34-",
        "colab_type": "code",
        "outputId": "445c9e53-3b0f-44a7-db3c-fad5652473db",
        "colab": {
          "base_uri": "https://localhost:8080/",
          "height": 34
        }
      },
      "source": [
        "# verification of tensorflow\n",
        "tf.__version__"
      ],
      "execution_count": 0,
      "outputs": [
        {
          "output_type": "execute_result",
          "data": {
            "text/plain": [
              "'1.14.0'"
            ]
          },
          "metadata": {
            "tags": []
          },
          "execution_count": 3
        }
      ]
    },
    {
      "cell_type": "code",
      "metadata": {
        "id": "UQ04BVk7x-Et",
        "colab_type": "code",
        "colab": {}
      },
      "source": [
        "from google.colab import drive\n",
        "drive.mount('/content/drive')"
      ],
      "execution_count": 0,
      "outputs": []
    },
    {
      "cell_type": "code",
      "metadata": {
        "id": "f3d37At9W39A",
        "colab_type": "code",
        "colab": {}
      },
      "source": [
        "# reparameterization trick\n",
        "# instead of sampling from Q(z|X), sample eps = N(0,I)\n",
        "# z = z_mean + sqrt(var)*eps\n",
        "def sampling(args):\n",
        "    \"\"\"Reparameterization trick by sampling fr an isotropic unit Gaussian.\n",
        "\n",
        "    # Arguments\n",
        "        args (tensor): mean and log of variance of Q(z|X)\n",
        "\n",
        "    # Returns\n",
        "        z (tensor): sampled latent vector\n",
        "    \"\"\"\n",
        "\n",
        "    z_mean, z_log_var = args\n",
        "    batch = K.shape(z_mean)[0]\n",
        "    dim = K.int_shape(z_mean)[1]\n",
        "    # by default, random_normal has mean=0 and std=1.0\n",
        "    epsilon = K.random_normal(shape=(batch, dim))\n",
        "    return z_mean + K.exp(0.5 * z_log_var) * epsilon\n",
        "  "
      ],
      "execution_count": 0,
      "outputs": []
    },
    {
      "cell_type": "code",
      "metadata": {
        "id": "aD6cYa_CHsLi",
        "colab_type": "code",
        "colab": {}
      },
      "source": [
        "# data from debo's data for example\n",
        "data_Mix_Train = io.load(os.path.join('DarkMachineTrain.h5'))\n",
        "data_Mix_Test = io.load(os.path.join('DarkMachineTest.h5'))\n",
        "data_bkg_Train = io.load(os.path.join('X_bkgTrain.h5'))\n",
        "data_bkg_Test = io.load(os.path.join('X_bkgTest.h5'))"
      ],
      "execution_count": 0,
      "outputs": []
    },
    {
      "cell_type": "code",
      "metadata": {
        "id": "Fs34Kp2-Jd59",
        "colab_type": "code",
        "colab": {}
      },
      "source": [
        "# setup of data for training/testing \n",
        "X_Mix_train = data_Mix_Train['X']\n",
        "y_Mix_train = data_Mix_Train['y']\n",
        "X_Mix_test = data_Mix_Test['X']\n",
        "y_Mix_test = data_Mix_Test['y']\n",
        "\n",
        "X_bkg_train = data_bkg_Train['X']\n",
        "X_bkg_test = data_bkg_Test['X']\n",
        "\n",
        "X_Mix_train_N = keras.utils.normalize(X_Mix_train, axis=1)\n",
        "X_Mix_test_N = keras.utils.normalize(X_Mix_test, axis=1)\n",
        "\n",
        "y_Mix_train_N = keras.utils.normalize(y_Mix_train, axis=1)\n",
        "y_Mix_test_N = keras.utils.normalize(y_Mix_test, axis=1) \n",
        "\n",
        "X_bkg_train_N = keras.utils.normalize(X_bkg_train, axis=1)\n",
        "X_bkg_test_N = keras.utils.normalize(X_bkg_test, axis=1)\n",
        "\n"
      ],
      "execution_count": 0,
      "outputs": []
    },
    {
      "cell_type": "code",
      "metadata": {
        "id": "mSDMwEewKCQu",
        "colab_type": "code",
        "outputId": "f24dff54-864d-4f47-8108-6f272a92283f",
        "colab": {
          "base_uri": "https://localhost:8080/",
          "height": 121
        }
      },
      "source": [
        "# verification of proper data\n",
        "print(\"X_Mix_train_N: \",X_Mix_train_N.shape)\n",
        "print(\"X_Mix_test_N: \",X_Mix_test_N.shape)\n",
        "print(\"y_Mix_train_N: \",y_Mix_train.shape)\n",
        "print(\"y_Mix_test_N: \",y_Mix_test.shape)\n",
        "\n",
        "print(\"X_bkg_train_N: \",X_bkg_train_N.shape)\n",
        "print(\"X_bkg_test_N: \",X_bkg_test_N.shape)\n"
      ],
      "execution_count": 0,
      "outputs": [
        {
          "output_type": "stream",
          "text": [
            "('X_Mix_train_N: ', (2420718, 113))\n",
            "('X_Mix_test_N: ', (806907, 113))\n",
            "('y_Mix_train_N: ', (2420718, 1))\n",
            "('y_Mix_test_N: ', (806907, 1))\n",
            "('X_bkg_train_N: ', (1739535, 113))\n",
            "('X_bkg_test_N: ', (434884, 113))\n"
          ],
          "name": "stdout"
        }
      ]
    },
    {
      "cell_type": "code",
      "metadata": {
        "id": "Qw8WOQJq56CJ",
        "colab_type": "code",
        "outputId": "dea8ad02-03ec-4cad-90e4-041c24f5a56c",
        "colab": {
          "base_uri": "https://localhost:8080/",
          "height": 139
        }
      },
      "source": [
        "print y_Mix_train_N"
      ],
      "execution_count": 0,
      "outputs": [
        {
          "output_type": "stream",
          "text": [
            "[[1.]\n",
            " [0.]\n",
            " [0.]\n",
            " ...\n",
            " [0.]\n",
            " [1.]\n",
            " [0.]]\n"
          ],
          "name": "stdout"
        }
      ]
    },
    {
      "cell_type": "code",
      "metadata": {
        "id": "liF8krK5KjxX",
        "colab_type": "code",
        "outputId": "dff3e857-e0b8-4017-9dca-b166b40f046a",
        "colab": {
          "base_uri": "https://localhost:8080/",
          "height": 34
        }
      },
      "source": [
        "# network parameters\n",
        "input_shape = X_Mix_train_N.shape[1]\n",
        "high_dim = 113\n",
        "mid_dim = 75\n",
        "low_dim = 30\n",
        "batch_size = 256\n",
        "latent_dim = 16\n",
        "epochs = 50\n",
        "\n",
        "print(input_shape)"
      ],
      "execution_count": 0,
      "outputs": [
        {
          "output_type": "stream",
          "text": [
            "113\n"
          ],
          "name": "stdout"
        }
      ]
    },
    {
      "cell_type": "code",
      "metadata": {
        "id": "mfwX_ApiiAYd",
        "colab_type": "code",
        "colab": {}
      },
      "source": [
        "# early stopping\n",
        "es = EarlyStopping(monitor='val_loss', mode='min', verbose=1, patience=3)"
      ],
      "execution_count": 0,
      "outputs": []
    },
    {
      "cell_type": "markdown",
      "metadata": {
        "id": "JytcDuKUnrjl",
        "colab_type": "text"
      },
      "source": [
        "\n",
        "# Variational Autoencoder Model\n"
      ]
    },
    {
      "cell_type": "code",
      "metadata": {
        "id": "O8oouFFqRMdj",
        "colab_type": "code",
        "outputId": "4cebc398-7ba7-486a-df97-4ecbef7f2f37",
        "colab": {
          "base_uri": "https://localhost:8080/",
          "height": 159
        }
      },
      "source": [
        "# Variational Autoencoder (VAE) Model Start\n",
        "\n",
        "# Encoder Model\n",
        "inputs = Input(shape=(input_shape,), name='encoder_input')\n",
        "eh = Dense(high_dim, activation='relu')(inputs)\n",
        "em = Dense(mid_dim, activation='relu')(eh)\n",
        "el = Dense(low_dim, activation='relu')(em)\n",
        "z_mean = Dense(latent_dim, name='z_mean')(el)\n",
        "z_log_var = Dense(latent_dim, name='z_log_var')(el)\n"
      ],
      "execution_count": 0,
      "outputs": [
        {
          "output_type": "stream",
          "text": [
            "WARNING: Logging before flag parsing goes to stderr.\n",
            "W0829 18:03:58.582310 140486976563072 deprecation_wrapper.py:119] From /usr/local/lib/python2.7/dist-packages/keras/backend/tensorflow_backend.py:517: The name tf.placeholder is deprecated. Please use tf.compat.v1.placeholder instead.\n",
            "\n",
            "W0829 18:03:58.622654 140486976563072 deprecation_wrapper.py:119] From /usr/local/lib/python2.7/dist-packages/keras/backend/tensorflow_backend.py:74: The name tf.get_default_graph is deprecated. Please use tf.compat.v1.get_default_graph instead.\n",
            "\n",
            "W0829 18:03:58.623976 140486976563072 deprecation_wrapper.py:119] From /usr/local/lib/python2.7/dist-packages/keras/backend/tensorflow_backend.py:4138: The name tf.random_uniform is deprecated. Please use tf.random.uniform instead.\n",
            "\n"
          ],
          "name": "stderr"
        }
      ]
    },
    {
      "cell_type": "code",
      "metadata": {
        "id": "AUbDojQmSF00",
        "colab_type": "code",
        "outputId": "77a4ac38-1970-409b-f944-59d9ee04025d",
        "colab": {
          "base_uri": "https://localhost:8080/",
          "height": 72
        }
      },
      "source": [
        "# use reparameterization trick to push the sampling out as input\n",
        "# note that \"output_shape\" isn't necessary with the TensorFlow backend\n",
        "z = Lambda(sampling, output_shape=(latent_dim,), name='z')([z_mean, z_log_var])\n"
      ],
      "execution_count": 0,
      "outputs": [
        {
          "output_type": "stream",
          "text": [
            "W0829 18:03:58.680694 140486976563072 deprecation_wrapper.py:119] From /usr/local/lib/python2.7/dist-packages/keras/backend/tensorflow_backend.py:4115: The name tf.random_normal is deprecated. Please use tf.random.normal instead.\n",
            "\n"
          ],
          "name": "stderr"
        }
      ]
    },
    {
      "cell_type": "code",
      "metadata": {
        "id": "jNCdDM89SPMq",
        "colab_type": "code",
        "outputId": "9a6df141-6561-405b-81f1-8925dffd623d",
        "colab": {
          "base_uri": "https://localhost:8080/",
          "height": 454
        }
      },
      "source": [
        "# instantiate encoder model\n",
        "encoder = Model(inputs, [z_mean, z_log_var, z], name='encoder')\n",
        "encoder.compile(optimizer='adam', loss='mean_squared_error')\n",
        "encoder.summary()\n",
        "plot_model(encoder, show_shapes=True) #to_file='vae_mlp_encoder.png',\n"
      ],
      "execution_count": 0,
      "outputs": [
        {
          "output_type": "stream",
          "text": [
            "W0829 18:03:58.694518 140486976563072 deprecation_wrapper.py:119] From /usr/local/lib/python2.7/dist-packages/keras/optimizers.py:790: The name tf.train.Optimizer is deprecated. Please use tf.compat.v1.train.Optimizer instead.\n",
            "\n"
          ],
          "name": "stderr"
        },
        {
          "output_type": "stream",
          "text": [
            "__________________________________________________________________________________________________\n",
            "Layer (type)                    Output Shape         Param #     Connected to                     \n",
            "==================================================================================================\n",
            "encoder_input (InputLayer)      (None, 113)          0                                            \n",
            "__________________________________________________________________________________________________\n",
            "dense_1 (Dense)                 (None, 113)          12882       encoder_input[0][0]              \n",
            "__________________________________________________________________________________________________\n",
            "dense_2 (Dense)                 (None, 75)           8550        dense_1[0][0]                    \n",
            "__________________________________________________________________________________________________\n",
            "dense_3 (Dense)                 (None, 30)           2280        dense_2[0][0]                    \n",
            "__________________________________________________________________________________________________\n",
            "z_mean (Dense)                  (None, 16)           496         dense_3[0][0]                    \n",
            "__________________________________________________________________________________________________\n",
            "z_log_var (Dense)               (None, 16)           496         dense_3[0][0]                    \n",
            "__________________________________________________________________________________________________\n",
            "z (Lambda)                      (None, 16)           0           z_mean[0][0]                     \n",
            "                                                                 z_log_var[0][0]                  \n",
            "==================================================================================================\n",
            "Total params: 24,704\n",
            "Trainable params: 24,704\n",
            "Non-trainable params: 0\n",
            "__________________________________________________________________________________________________\n"
          ],
          "name": "stdout"
        }
      ]
    },
    {
      "cell_type": "code",
      "metadata": {
        "id": "jc7cIZ-rSZtY",
        "colab_type": "code",
        "colab": {}
      },
      "source": [
        "# build decoder model\n",
        "latent_inputs = Input(shape=(latent_dim,), name='z_sampling')\n",
        "dl = Dense(low_dim, activation='relu')(latent_inputs)\n",
        "dm = Dense(mid_dim, activation='relu')(dl)\n",
        "dh = Dense(high_dim, activation='relu')(dm)\n",
        "\n",
        "outputs = Dense(input_shape, activation='sigmoid')(dh) # original_dim\n"
      ],
      "execution_count": 0,
      "outputs": []
    },
    {
      "cell_type": "code",
      "metadata": {
        "id": "4ETgmg5MSgVm",
        "colab_type": "code",
        "outputId": "fc08f703-96c4-4140-8677-0b279de9b140",
        "colab": {
          "base_uri": "https://localhost:8080/",
          "height": 312
        }
      },
      "source": [
        "# instantiate decoder model\n",
        "decoder = Model(latent_inputs, outputs, name='decoder')\n",
        "decoder.summary()\n",
        "plot_model(decoder, show_shapes=True) #to_file='vae_mlp_decoder.png',\n"
      ],
      "execution_count": 0,
      "outputs": [
        {
          "output_type": "stream",
          "text": [
            "_________________________________________________________________\n",
            "Layer (type)                 Output Shape              Param #   \n",
            "=================================================================\n",
            "z_sampling (InputLayer)      (None, 16)                0         \n",
            "_________________________________________________________________\n",
            "dense_4 (Dense)              (None, 30)                510       \n",
            "_________________________________________________________________\n",
            "dense_5 (Dense)              (None, 75)                2325      \n",
            "_________________________________________________________________\n",
            "dense_6 (Dense)              (None, 113)               8588      \n",
            "_________________________________________________________________\n",
            "dense_7 (Dense)              (None, 113)               12882     \n",
            "=================================================================\n",
            "Total params: 24,305\n",
            "Trainable params: 24,305\n",
            "Non-trainable params: 0\n",
            "_________________________________________________________________\n"
          ],
          "name": "stdout"
        }
      ]
    },
    {
      "cell_type": "code",
      "metadata": {
        "id": "Gm-pc2NSSzpx",
        "colab_type": "code",
        "outputId": "11bc951a-6977-49be-ec7a-2789c216b586",
        "colab": {
          "base_uri": "https://localhost:8080/",
          "height": 243
        }
      },
      "source": [
        "# instantiate VAE model\n",
        "outputs = decoder(encoder(inputs)[2])\n",
        "vae = Model(inputs, outputs, name='vae_mlp')\n",
        "vae.compile(optimizer='adam', loss='mean_squared_error',metrics=['accuracy'])\n",
        "#encoder.compile(optimizer='adam', loss='binary_crossentropy')\n",
        "# VAE Model End\n",
        "vae.summary()"
      ],
      "execution_count": 0,
      "outputs": [
        {
          "output_type": "stream",
          "text": [
            "_________________________________________________________________\n",
            "Layer (type)                 Output Shape              Param #   \n",
            "=================================================================\n",
            "encoder_input (InputLayer)   (None, 113)               0         \n",
            "_________________________________________________________________\n",
            "encoder (Model)              [(None, 16), (None, 16),  24704     \n",
            "_________________________________________________________________\n",
            "decoder (Model)              (None, 113)               24305     \n",
            "=================================================================\n",
            "Total params: 49,009\n",
            "Trainable params: 49,009\n",
            "Non-trainable params: 0\n",
            "_________________________________________________________________\n"
          ],
          "name": "stdout"
        }
      ]
    },
    {
      "cell_type": "markdown",
      "metadata": {
        "id": "HMWVtJQjn7cV",
        "colab_type": "text"
      },
      "source": [
        "# Binary Classifier Model"
      ]
    },
    {
      "cell_type": "code",
      "metadata": {
        "id": "vm9XR5zaUi4v",
        "colab_type": "code",
        "outputId": "3de1c4e7-5dfa-4cd9-f8d7-fefcb0252652",
        "colab": {
          "base_uri": "https://localhost:8080/",
          "height": 350
        }
      },
      "source": [
        "# Binary Classifier (Functional API) Model Start\n",
        "\n",
        "binputs = Input(shape=(latent_dim,), name='binary_input')\n",
        "bi = Dense(latent_dim, activation= 'relu')(binputs)\n",
        "bioutputs = Dense(1, activation='sigmoid')(bi)\n",
        "\n",
        "biclass = Model(binputs, bioutputs, name='binary_classifer')\n",
        "biclass.compile(optimizer='adam', loss='binary_crossentropy', metrics=['accuracy'])\n",
        "\n",
        "biclass.summary()\n"
      ],
      "execution_count": 0,
      "outputs": [
        {
          "output_type": "stream",
          "text": [
            "W0829 18:03:59.783804 140486976563072 deprecation_wrapper.py:119] From /usr/local/lib/python2.7/dist-packages/keras/backend/tensorflow_backend.py:3376: The name tf.log is deprecated. Please use tf.math.log instead.\n",
            "\n",
            "W0829 18:03:59.787472 140486976563072 deprecation.py:323] From /usr/local/lib/python2.7/dist-packages/tensorflow/python/ops/nn_impl.py:180: where (from tensorflow.python.ops.array_ops) is deprecated and will be removed in a future version.\n",
            "Instructions for updating:\n",
            "Use tf.where in 2.0, which has the same broadcast rule as np.where\n"
          ],
          "name": "stderr"
        },
        {
          "output_type": "stream",
          "text": [
            "_________________________________________________________________\n",
            "Layer (type)                 Output Shape              Param #   \n",
            "=================================================================\n",
            "binary_input (InputLayer)    (None, 16)                0         \n",
            "_________________________________________________________________\n",
            "dense_8 (Dense)              (None, 16)                272       \n",
            "_________________________________________________________________\n",
            "dense_9 (Dense)              (None, 1)                 17        \n",
            "=================================================================\n",
            "Total params: 289\n",
            "Trainable params: 289\n",
            "Non-trainable params: 0\n",
            "_________________________________________________________________\n"
          ],
          "name": "stdout"
        }
      ]
    },
    {
      "cell_type": "markdown",
      "metadata": {
        "id": "dUCWbZjzoOxI",
        "colab_type": "text"
      },
      "source": [
        "\n",
        "# Training Variational Autoencoder with Pure Background\n"
      ]
    },
    {
      "cell_type": "code",
      "metadata": {
        "id": "H_b78w2903vC",
        "colab_type": "code",
        "colab": {}
      },
      "source": [
        "##########################################\n",
        "# Start Model Combination & Verification #\n",
        "##########################################"
      ],
      "execution_count": 0,
      "outputs": []
    },
    {
      "cell_type": "code",
      "metadata": {
        "id": "gE2PGfM6aJ16",
        "colab_type": "code",
        "outputId": "3be752ce-1caa-40f6-b070-d22620c06fe7",
        "colab": {
          "base_uri": "https://localhost:8080/",
          "height": 434
        }
      },
      "source": [
        "# Variational Autoencoder (VAE) Training/Testing [BACKGROUND]\n",
        "history = vae.fit(X_bkg_train_N,X_bkg_train_N,\n",
        "                  epochs=epochs,\n",
        "                  batch_size=batch_size,\n",
        "                  validation_split=0.2,\n",
        "                  callbacks=[es])\n",
        "                  #validation_data=(X_bkg_test_N, X_bkg_test_N)) #shuffle=True\n",
        "\n",
        "\n",
        "encoder.save_weights('ve-weights.h5')\n",
        "vae.save_weights('vae-weights.h5')\n",
        "\n",
        "vae.save('DarkMachine_autoencoder.model')\n",
        "encoder.save('DarkMachine_encoder.model')"
      ],
      "execution_count": 0,
      "outputs": [
        {
          "output_type": "stream",
          "text": [
            "Train on 1391628 samples, validate on 347907 samples\n",
            "Epoch 1/50\n",
            "1391628/1391628 [==============================] - 36s 26us/step - loss: 0.0013 - acc: 0.9045 - val_loss: 2.2258e-04 - val_acc: 0.9505\n",
            "Epoch 2/50\n",
            "1391628/1391628 [==============================] - 31s 22us/step - loss: 1.1486e-04 - acc: 0.9629 - val_loss: 2.4332e-05 - val_acc: 0.9603\n",
            "Epoch 3/50\n",
            "1391628/1391628 [==============================] - 31s 22us/step - loss: 1.2970e-05 - acc: 0.9762 - val_loss: 1.2326e-05 - val_acc: 0.9768\n",
            "Epoch 4/50\n",
            "1391628/1391628 [==============================] - 31s 22us/step - loss: 8.2141e-06 - acc: 0.9801 - val_loss: 1.0606e-05 - val_acc: 0.9804\n",
            "Epoch 5/50\n",
            "1391628/1391628 [==============================] - 31s 23us/step - loss: 5.7102e-06 - acc: 0.9835 - val_loss: 5.6830e-06 - val_acc: 0.9808\n",
            "Epoch 6/50\n",
            "1391628/1391628 [==============================] - 32s 23us/step - loss: 4.5287e-06 - acc: 0.9851 - val_loss: 5.0488e-06 - val_acc: 0.9922\n",
            "Epoch 7/50\n",
            "1391628/1391628 [==============================] - 31s 23us/step - loss: 3.7661e-06 - acc: 0.9860 - val_loss: 5.6775e-06 - val_acc: 0.9740\n",
            "Epoch 8/50\n",
            "1391628/1391628 [==============================] - 31s 22us/step - loss: 3.2213e-06 - acc: 0.9866 - val_loss: 2.8895e-06 - val_acc: 0.9885\n",
            "Epoch 9/50\n",
            "1391628/1391628 [==============================] - 31s 23us/step - loss: 2.7957e-06 - acc: 0.9873 - val_loss: 5.1219e-06 - val_acc: 0.9871\n",
            "Epoch 10/50\n",
            "1391628/1391628 [==============================] - 32s 23us/step - loss: 2.5323e-06 - acc: 0.9876 - val_loss: 6.4830e-06 - val_acc: 0.9841\n",
            "Epoch 11/50\n",
            "1391628/1391628 [==============================] - 32s 23us/step - loss: 2.2897e-06 - acc: 0.9882 - val_loss: 3.5744e-06 - val_acc: 0.9807\n",
            "Epoch 00011: early stopping\n"
          ],
          "name": "stdout"
        }
      ]
    },
    {
      "cell_type": "code",
      "metadata": {
        "id": "YXVu3-jynXLg",
        "colab_type": "code",
        "outputId": "022915ce-cd29-4cdd-f275-15ec8b3afec2",
        "colab": {
          "base_uri": "https://localhost:8080/",
          "height": 590
        }
      },
      "source": [
        "# list all data in history\n",
        "print(history.history.keys())\n",
        "# summarize history for accuracy\n",
        "# accuracy doesn't matter, especially for variational autoencoders\n",
        "plt.plot(history.history['acc'])\n",
        "plt.plot(history.history['val_acc'])\n",
        "plt.title('model accuracy')\n",
        "plt.ylabel('accuracy')\n",
        "plt.xlabel('epoch')\n",
        "plt.legend(['train', 'test'], loc='upper left')\n",
        "plt.show()\n",
        "# summarize history for loss\n",
        "plt.plot(history.history['loss'])\n",
        "plt.plot(history.history['val_loss'])\n",
        "plt.title('model loss')\n",
        "plt.ylabel('loss')\n",
        "plt.xlabel('epoch')\n",
        "plt.legend(['train', 'test'], loc='upper left')\n",
        "plt.show()"
      ],
      "execution_count": 0,
      "outputs": [
        {
          "output_type": "stream",
          "text": [
            "['acc', 'loss', 'val_acc', 'val_loss']\n"
          ],
          "name": "stdout"
        },
        {
          "output_type": "display_data",
          "data": {
            "image/png": "[encoded data removed]",
            "text/plain": [
              "<Figure size 432x288 with 1 Axes>"
            ]
          },
          "metadata": {
            "tags": []
          }
        },
        {
          "output_type": "display_data",
          "data": {
            "image/png": "[encoded data removed]",
            "text/plain": [
              "<Figure size 432x288 with 1 Axes>"
            ]
          },
          "metadata": {
            "tags": []
          }
        }
      ]
    },
    {
      "cell_type": "code",
      "metadata": {
        "id": "DtPPpks_1fnI",
        "colab_type": "code",
        "colab": {}
      },
      "source": [
        "encoder_model = keras.models.load_model('DarkMachine_encoder.model')"
      ],
      "execution_count": 0,
      "outputs": []
    },
    {
      "cell_type": "code",
      "metadata": {
        "id": "Kg9oqtnJwWhU",
        "colab_type": "code",
        "colab": {}
      },
      "source": [
        "# Encoder as input, using Mixed Data\n",
        "# Training Input\n",
        "x_train_encoded = encoder_model.predict(X_Mix_train_N, batch_size=batch_size)\n",
        "# Testing Input\n",
        "x_test_encoded = encoder_model.predict(X_Mix_test_N, batch_size=batch_size)"
      ],
      "execution_count": 0,
      "outputs": []
    },
    {
      "cell_type": "markdown",
      "metadata": {
        "id": "qhJrTeBcoaAy",
        "colab_type": "text"
      },
      "source": [
        "## Binary Classifier with Pure Background Encoder Input\n",
        "##### (Remember: Implies classification using only latent space representation)"
      ]
    },
    {
      "cell_type": "code",
      "metadata": {
        "id": "putLoqSpipAn",
        "colab_type": "code",
        "outputId": "5b15dde4-5893-4821-d352-f13015d1f2c5",
        "colab": {
          "base_uri": "https://localhost:8080/",
          "height": 1000
        }
      },
      "source": [
        "# Binary Classifer Training/Testing \n",
        "## Classifer can be used for both VAE's \n",
        "history = biclass.fit(x_train_encoded[0], \n",
        "                      y_Mix_train_N, \n",
        "                      batch_size=batch_size, \n",
        "                      epochs=epochs,\n",
        "                      validation_split=0.2,\n",
        "                      callbacks=[es])\n",
        "                      #validation_data=(x_test_encoded[0], y_Mix_test_N))\n",
        "\n",
        "\n",
        "biclass.save_weights('bi-weights.h5')\n",
        "biclass.save('binary-class.model')"
      ],
      "execution_count": 0,
      "outputs": [
        {
          "output_type": "stream",
          "text": [
            "Train on 1936574 samples, validate on 484144 samples\n",
            "Epoch 1/50\n",
            "1936574/1936574 [==============================] - 25s 13us/step - loss: 0.1980 - acc: 0.9226 - val_loss: 0.1634 - val_acc: 0.9370\n",
            "Epoch 2/50\n",
            "1936574/1936574 [==============================] - 24s 12us/step - loss: 0.1569 - acc: 0.9400 - val_loss: 0.1513 - val_acc: 0.9422\n",
            "Epoch 3/50\n",
            "1936574/1936574 [==============================] - 24s 12us/step - loss: 0.1485 - acc: 0.9436 - val_loss: 0.1467 - val_acc: 0.9435\n",
            "Epoch 4/50\n",
            "1936574/1936574 [==============================] - 24s 12us/step - loss: 0.1440 - acc: 0.9456 - val_loss: 0.1421 - val_acc: 0.9455\n",
            "Epoch 5/50\n",
            "1936574/1936574 [==============================] - 25s 13us/step - loss: 0.1412 - acc: 0.9469 - val_loss: 0.1398 - val_acc: 0.9473\n",
            "Epoch 6/50\n",
            "1936574/1936574 [==============================] - 25s 13us/step - loss: 0.1392 - acc: 0.9477 - val_loss: 0.1373 - val_acc: 0.9481\n",
            "Epoch 7/50\n",
            "1936574/1936574 [==============================] - 24s 12us/step - loss: 0.1377 - acc: 0.9485 - val_loss: 0.1376 - val_acc: 0.9487\n",
            "Epoch 8/50\n",
            "1936574/1936574 [==============================] - 24s 13us/step - loss: 0.1364 - acc: 0.9492 - val_loss: 0.1349 - val_acc: 0.9490\n",
            "Epoch 9/50\n",
            "1936574/1936574 [==============================] - 24s 12us/step - loss: 0.1354 - acc: 0.9496 - val_loss: 0.1343 - val_acc: 0.9491\n",
            "Epoch 10/50\n",
            "1936574/1936574 [==============================] - 24s 12us/step - loss: 0.1346 - acc: 0.9500 - val_loss: 0.1351 - val_acc: 0.9490\n",
            "Epoch 11/50\n",
            "1936574/1936574 [==============================] - 24s 12us/step - loss: 0.1339 - acc: 0.9503 - val_loss: 0.1376 - val_acc: 0.9489\n",
            "Epoch 12/50\n",
            "1936574/1936574 [==============================] - 24s 12us/step - loss: 0.1333 - acc: 0.9506 - val_loss: 0.1322 - val_acc: 0.9507\n",
            "Epoch 13/50\n",
            "1936574/1936574 [==============================] - 24s 13us/step - loss: 0.1329 - acc: 0.9508 - val_loss: 0.1328 - val_acc: 0.9504\n",
            "Epoch 14/50\n",
            "1936574/1936574 [==============================] - 24s 12us/step - loss: 0.1325 - acc: 0.9510 - val_loss: 0.1314 - val_acc: 0.9513\n",
            "Epoch 15/50\n",
            "1936574/1936574 [==============================] - 25s 13us/step - loss: 0.1321 - acc: 0.9512 - val_loss: 0.1308 - val_acc: 0.9512\n",
            "Epoch 16/50\n",
            "1936574/1936574 [==============================] - 24s 12us/step - loss: 0.1318 - acc: 0.9514 - val_loss: 0.1322 - val_acc: 0.9509\n",
            "Epoch 17/50\n",
            "1936574/1936574 [==============================] - 24s 13us/step - loss: 0.1315 - acc: 0.9515 - val_loss: 0.1305 - val_acc: 0.9515\n",
            "Epoch 18/50\n",
            "1936574/1936574 [==============================] - 25s 13us/step - loss: 0.1312 - acc: 0.9516 - val_loss: 0.1304 - val_acc: 0.9514\n",
            "Epoch 19/50\n",
            "1936574/1936574 [==============================] - 24s 13us/step - loss: 0.1310 - acc: 0.9517 - val_loss: 0.1300 - val_acc: 0.9512\n",
            "Epoch 20/50\n",
            "1936574/1936574 [==============================] - 24s 12us/step - loss: 0.1308 - acc: 0.9519 - val_loss: 0.1299 - val_acc: 0.9516\n",
            "Epoch 21/50\n",
            "1936574/1936574 [==============================] - 24s 12us/step - loss: 0.1305 - acc: 0.9520 - val_loss: 0.1302 - val_acc: 0.9516\n",
            "Epoch 22/50\n",
            "1936574/1936574 [==============================] - 24s 12us/step - loss: 0.1304 - acc: 0.9520 - val_loss: 0.1293 - val_acc: 0.9519\n",
            "Epoch 23/50\n",
            "1936574/1936574 [==============================] - 24s 12us/step - loss: 0.1302 - acc: 0.9520 - val_loss: 0.1347 - val_acc: 0.9507\n",
            "Epoch 24/50\n",
            "1936574/1936574 [==============================] - 24s 12us/step - loss: 0.1300 - acc: 0.9522 - val_loss: 0.1294 - val_acc: 0.9524\n",
            "Epoch 25/50\n",
            "1936574/1936574 [==============================] - 24s 12us/step - loss: 0.1298 - acc: 0.9523 - val_loss: 0.1291 - val_acc: 0.9518\n",
            "Epoch 26/50\n",
            "1936574/1936574 [==============================] - 24s 12us/step - loss: 0.1296 - acc: 0.9524 - val_loss: 0.1289 - val_acc: 0.9527\n",
            "Epoch 27/50\n",
            "1936574/1936574 [==============================] - 24s 12us/step - loss: 0.1293 - acc: 0.9525 - val_loss: 0.1302 - val_acc: 0.9513\n",
            "Epoch 28/50\n",
            "1936574/1936574 [==============================] - 24s 12us/step - loss: 0.1292 - acc: 0.9526 - val_loss: 0.1285 - val_acc: 0.9526\n",
            "Epoch 29/50\n",
            "1936574/1936574 [==============================] - 23s 12us/step - loss: 0.1289 - acc: 0.9526 - val_loss: 0.1285 - val_acc: 0.9520\n",
            "Epoch 30/50\n",
            "1936574/1936574 [==============================] - 24s 12us/step - loss: 0.1288 - acc: 0.9526 - val_loss: 0.1287 - val_acc: 0.9524\n",
            "Epoch 31/50\n",
            "1936574/1936574 [==============================] - 25s 13us/step - loss: 0.1285 - acc: 0.9528 - val_loss: 0.1280 - val_acc: 0.9527\n",
            "Epoch 32/50\n",
            "1936574/1936574 [==============================] - 24s 13us/step - loss: 0.1285 - acc: 0.9529 - val_loss: 0.1275 - val_acc: 0.9529\n",
            "Epoch 33/50\n",
            "1936574/1936574 [==============================] - 26s 13us/step - loss: 0.1283 - acc: 0.9529 - val_loss: 0.1292 - val_acc: 0.9519\n",
            "Epoch 34/50\n",
            "1936574/1936574 [==============================] - 25s 13us/step - loss: 0.1282 - acc: 0.9529 - val_loss: 0.1270 - val_acc: 0.9529\n",
            "Epoch 35/50\n",
            "1936574/1936574 [==============================] - 24s 13us/step - loss: 0.1280 - acc: 0.9530 - val_loss: 0.1266 - val_acc: 0.9532\n",
            "Epoch 36/50\n",
            "1936574/1936574 [==============================] - 24s 13us/step - loss: 0.1278 - acc: 0.9531 - val_loss: 0.1269 - val_acc: 0.9532\n",
            "Epoch 37/50\n",
            "1936574/1936574 [==============================] - 24s 13us/step - loss: 0.1276 - acc: 0.9532 - val_loss: 0.1274 - val_acc: 0.9528\n",
            "Epoch 38/50\n",
            "1936574/1936574 [==============================] - 24s 12us/step - loss: 0.1276 - acc: 0.9532 - val_loss: 0.1298 - val_acc: 0.9527\n",
            "Epoch 00038: early stopping\n"
          ],
          "name": "stdout"
        }
      ]
    },
    {
      "cell_type": "code",
      "metadata": {
        "id": "q-Yeu_3VYRqz",
        "colab_type": "code",
        "outputId": "fdad7109-92a2-46b7-d257-f602cb5e8872",
        "colab": {
          "base_uri": "https://localhost:8080/",
          "height": 590
        }
      },
      "source": [
        "# list all data in history\n",
        "print(history.history.keys())\n",
        "# summarize history for accuracy\n",
        "plt.plot(history.history['acc'])\n",
        "plt.plot(history.history['val_acc'])\n",
        "plt.title('model accuracy')\n",
        "plt.ylabel('accuracy')\n",
        "plt.xlabel('epoch')\n",
        "plt.legend(['train', 'test'], loc='upper left')\n",
        "plt.show()\n",
        "# summarize history for loss\n",
        "plt.plot(history.history['loss'])\n",
        "plt.plot(history.history['val_loss'])\n",
        "plt.title('model loss')\n",
        "plt.ylabel('loss')\n",
        "plt.xlabel('epoch')\n",
        "plt.legend(['train', 'test'], loc='upper left')\n",
        "plt.show()"
      ],
      "execution_count": 0,
      "outputs": [
        {
          "output_type": "stream",
          "text": [
            "['acc', 'loss', 'val_acc', 'val_loss']\n"
          ],
          "name": "stdout"
        },
        {
          "output_type": "display_data",
          "data": {
            "image/png": "[encoded data removed]",
            "text/plain": [
              "<Figure size 432x288 with 1 Axes>"
            ]
          },
          "metadata": {
            "tags": []
          }
        },
        {
          "output_type": "display_data",
          "data": {
            "image/png": "[encoded data removed]",
            "text/plain": [
              "<Figure size 432x288 with 1 Axes>"
            ]
          },
          "metadata": {
            "tags": []
          }
        }
      ]
    },
    {
      "cell_type": "code",
      "metadata": {
        "id": "aWRAlSP92U1h",
        "colab_type": "code",
        "colab": {}
      },
      "source": [
        "bi_classifier = keras.models.load_model('binary-class.model')\n",
        "\n",
        "pred_x = bi_classifier.predict(x_test_encoded[0])"
      ],
      "execution_count": 0,
      "outputs": []
    },
    {
      "cell_type": "markdown",
      "metadata": {
        "id": "RiF8gGtUmmhB",
        "colab_type": "text"
      },
      "source": [
        "## ROC Curve for Binary Classifier"
      ]
    },
    {
      "cell_type": "code",
      "metadata": {
        "id": "kTWz2KhBlF3w",
        "colab_type": "code",
        "outputId": "b4d1c3e3-5da5-4be8-a387-383609c37cd7",
        "colab": {
          "base_uri": "https://localhost:8080/",
          "height": 283
        }
      },
      "source": [
        "from sklearn.metrics import roc_curve, auc\n",
        "fpr, tpr, _ = roc_curve(y_Mix_test_N, pred_x)\n",
        "\n",
        "roc_auc = auc(fpr, tpr)\n",
        "\n",
        "plt.plot(fpr,tpr,color='darkorange',label='ROC curve (area = %0.2f)' % roc_auc)\n",
        "plt.legend(loc=\"lower right\")\n",
        "plt.xlabel('False Positive Rate')\n",
        "plt.ylabel('True Positive Rate')\n",
        "\n",
        "plt.show()"
      ],
      "execution_count": 0,
      "outputs": [
        {
          "output_type": "display_data",
          "data": {
            "image/png": "[encoded data removed]",
            "text/plain": [
              "<Figure size 432x288 with 1 Axes>"
            ]
          },
          "metadata": {
            "tags": []
          }
        }
      ]
    },
    {
      "cell_type": "markdown",
      "metadata": {
        "id": "XDx9ZI6T5LuU",
        "colab_type": "text"
      },
      "source": [
        "## Histogram & ROC Curve of VAE"
      ]
    },
    {
      "cell_type": "code",
      "metadata": {
        "id": "DISsVyYUnkyv",
        "colab_type": "code",
        "colab": {}
      },
      "source": [
        "vae_predict_x = vae.predict(X_Mix_test_N)"
      ],
      "execution_count": 0,
      "outputs": []
    },
    {
      "cell_type": "code",
      "metadata": {
        "id": "VkTb4eBjpjoX",
        "colab_type": "code",
        "colab": {}
      },
      "source": [
        "# Mean Square Root for prediction of loss\n",
        "predict_loss_mse = np.mean(np.power(X_Mix_test_N - vae_predict_x, 2), axis=1)"
      ],
      "execution_count": 0,
      "outputs": []
    },
    {
      "cell_type": "code",
      "metadata": {
        "id": "T1MW4Kv3qW4F",
        "colab_type": "code",
        "outputId": "055b492b-a505-4619-85c0-3c47b42669d9",
        "colab": {
          "base_uri": "https://localhost:8080/",
          "height": 34
        }
      },
      "source": [
        "predict_loss_mse = predict_loss_mse.reshape(806907,1)\n",
        "predict_loss_mse.shape"
      ],
      "execution_count": 0,
      "outputs": [
        {
          "output_type": "execute_result",
          "data": {
            "text/plain": [
              "(806907, 1)"
            ]
          },
          "metadata": {
            "tags": []
          },
          "execution_count": 30
        }
      ]
    },
    {
      "cell_type": "code",
      "metadata": {
        "id": "QNYMmcAQxAOf",
        "colab_type": "code",
        "colab": {}
      },
      "source": [
        "from sklearn.preprocessing import StandardScaler, RobustScaler\n",
        "\n",
        "predict_loss=predict_loss_mse\n",
        "tf_loss=StandardScaler().fit(predict_loss.reshape(-1,1))\n",
        "predict_loss=tf_loss.transform(predict_loss.reshape(-1,1))"
      ],
      "execution_count": 0,
      "outputs": []
    },
    {
      "cell_type": "code",
      "metadata": {
        "id": "syFEqUsRxpgv",
        "colab_type": "code",
        "outputId": "2de42f13-6016-42c3-9022-0d61bc9eee61",
        "colab": {
          "base_uri": "https://localhost:8080/",
          "height": 336
        }
      },
      "source": [
        "\n",
        "sigPred = predict_loss[np.where(y_Mix_test==1)]\n",
        "bkgPred = predict_loss[np.where(y_Mix_test==0)]\n",
        "fig = plt.hist(sigPred, bins=100, histtype='step', label='signal_loss', normed= 1)\n",
        "fig = plt.hist(bkgPred, bins=100, histtype='step', color= 'red', label='background_loss', normed= 1)\n",
        "fig = plt.yscale('log')\n",
        "fig = plt.legend(loc= 'upper right')\n",
        "fig = plt.title('loss distribution')"
      ],
      "execution_count": 0,
      "outputs": [
        {
          "output_type": "stream",
          "text": [
            "/usr/local/lib/python2.7/dist-packages/matplotlib/axes/_axes.py:6571: UserWarning: The 'normed' kwarg is deprecated, and has been replaced by the 'density' kwarg.\n",
            "  warnings.warn(\"The 'normed' kwarg is deprecated, and has been \"\n"
          ],
          "name": "stderr"
        },
        {
          "output_type": "display_data",
          "data": {
            "image/png": "[encoded data removed]",
            "text/plain": [
              "<Figure size 432x288 with 1 Axes>"
            ]
          },
          "metadata": {
            "tags": []
          }
        }
      ]
    },
    {
      "cell_type": "code",
      "metadata": {
        "id": "y3ge4tDv0HYU",
        "colab_type": "code",
        "outputId": "8f5c44b7-59e1-42b5-8d4f-3cc10c243093",
        "colab": {
          "base_uri": "https://localhost:8080/",
          "height": 323
        }
      },
      "source": [
        "from sklearn.metrics import roc_auc_score\n",
        "\n",
        "fpr_vae, tpr_vae, thresholds_vae = roc_curve(y_Mix_test, predict_loss)\n",
        "roc_auc = roc_auc_score(y_Mix_test, predict_loss)\n",
        "print(\"roc_auc =\", roc_auc_score(y_Mix_test, predict_loss))\n",
        "\n",
        "plt.plot(tpr_vae, 1/fpr_vae, color = 'darkorange', label='ROC curve (area = %0.2f)' % roc_auc)\n",
        "plt.xlim(0.1, 1.0)\n",
        "plt.ylim(1, 10000)\n",
        "plt.yscale(\"log\")\n",
        "plt.grid()\n",
        "plt.show()"
      ],
      "execution_count": 0,
      "outputs": [
        {
          "output_type": "stream",
          "text": [
            "('roc_auc =', 0.9031671738324631)\n"
          ],
          "name": "stdout"
        },
        {
          "output_type": "stream",
          "text": [
            "/usr/local/lib/python2.7/dist-packages/ipykernel_launcher.py:7: RuntimeWarning: divide by zero encountered in divide\n",
            "  import sys\n"
          ],
          "name": "stderr"
        },
        {
          "output_type": "display_data",
          "data": {
            "image/png": "[encoded data removed]",
            "text/plain": [
              "<Figure size 432x288 with 1 Axes>"
            ]
          },
          "metadata": {
            "tags": []
          }
        }
      ]
    },
    {
      "cell_type": "code",
      "metadata": {
        "id": "x4fA6bnk2zM_",
        "colab_type": "code",
        "colab": {}
      },
      "source": [
        ""
      ],
      "execution_count": 0,
      "outputs": []
    },
    {
      "cell_type": "markdown",
      "metadata": {
        "id": "fce1o5X1NmrP",
        "colab_type": "text"
      },
      "source": [
        "\n",
        "# Training VAE with Mixed Data\n",
        "### [ Mixed = Background + Signal ]\n"
      ]
    },
    {
      "cell_type": "code",
      "metadata": {
        "id": "5QtnLiN8aKEt",
        "colab_type": "code",
        "outputId": "689a8a27-ef56-4fd4-c60e-69f24dc286e5",
        "colab": {
          "base_uri": "https://localhost:8080/",
          "height": 746
        }
      },
      "source": [
        "# Variational Autoencoder (VAE) Training/Testing [MIXED]\n",
        "history = vae.fit(X_Mix_train_N,X_Mix_train_N,\n",
        "                  epochs=epochs,\n",
        "                  batch_size=batch_size,\n",
        "                  validation_split=0.2,\n",
        "                  callbacks=[es])\n",
        "                  #validation_data=(X_Mix_test_N, X_Mix_test_N)) #shuffle=True\n",
        "\n",
        "\n",
        "encoder.save_weights('ve-mix-weights.h5')\n",
        "vae.save_weights('vae-mix-weights.h5')\n",
        "\n",
        "vae.save('DarkMachine_autoencoder-mix.model')\n",
        "encoder.save('DarkMachine_encoder-mix.model')"
      ],
      "execution_count": 0,
      "outputs": [
        {
          "output_type": "stream",
          "text": [
            "Train on 1936574 samples, validate on 484144 samples\n",
            "Epoch 1/50\n",
            "1936574/1936574 [==============================] - 44s 23us/step - loss: 9.2752e-06 - acc: 0.9868 - val_loss: 4.6483e-06 - val_acc: 0.9817\n",
            "Epoch 2/50\n",
            "1936574/1936574 [==============================] - 44s 23us/step - loss: 4.0526e-06 - acc: 0.9880 - val_loss: 3.0279e-06 - val_acc: 0.9901\n",
            "Epoch 3/50\n",
            "1936574/1936574 [==============================] - 45s 23us/step - loss: 3.2400e-06 - acc: 0.9889 - val_loss: 2.6770e-06 - val_acc: 0.9913\n",
            "Epoch 4/50\n",
            "1936574/1936574 [==============================] - 44s 23us/step - loss: 2.8181e-06 - acc: 0.9893 - val_loss: 2.7181e-06 - val_acc: 0.9954\n",
            "Epoch 5/50\n",
            "1936574/1936574 [==============================] - 45s 23us/step - loss: 2.5455e-06 - acc: 0.9894 - val_loss: 2.3107e-06 - val_acc: 0.9938\n",
            "Epoch 6/50\n",
            "1936574/1936574 [==============================] - 45s 23us/step - loss: 2.3356e-06 - acc: 0.9901 - val_loss: 2.5873e-06 - val_acc: 0.9928\n",
            "Epoch 7/50\n",
            "1936574/1936574 [==============================] - 45s 23us/step - loss: 2.1619e-06 - acc: 0.9903 - val_loss: 2.1160e-06 - val_acc: 0.9866\n",
            "Epoch 8/50\n",
            "1936574/1936574 [==============================] - 44s 23us/step - loss: 2.0157e-06 - acc: 0.9906 - val_loss: 2.1952e-06 - val_acc: 0.9851\n",
            "Epoch 9/50\n",
            "1936574/1936574 [==============================] - 45s 23us/step - loss: 1.8328e-06 - acc: 0.9908 - val_loss: 1.7886e-06 - val_acc: 0.9902\n",
            "Epoch 10/50\n",
            "1936574/1936574 [==============================] - 45s 23us/step - loss: 1.7002e-06 - acc: 0.9909 - val_loss: 1.7756e-06 - val_acc: 0.9860\n",
            "Epoch 11/50\n",
            "1936574/1936574 [==============================] - 45s 23us/step - loss: 1.5812e-06 - acc: 0.9910 - val_loss: 1.3713e-06 - val_acc: 0.9880\n",
            "Epoch 12/50\n",
            "1936574/1936574 [==============================] - 44s 23us/step - loss: 1.4776e-06 - acc: 0.9911 - val_loss: 1.5400e-06 - val_acc: 0.9851\n",
            "Epoch 13/50\n",
            "1936574/1936574 [==============================] - 44s 23us/step - loss: 1.3877e-06 - acc: 0.9915 - val_loss: 1.4267e-06 - val_acc: 0.9910\n",
            "Epoch 14/50\n",
            "1936574/1936574 [==============================] - 45s 23us/step - loss: 1.3348e-06 - acc: 0.9916 - val_loss: 1.3079e-06 - val_acc: 0.9928\n",
            "Epoch 15/50\n",
            "1936574/1936574 [==============================] - 44s 23us/step - loss: 1.2632e-06 - acc: 0.9918 - val_loss: 9.9484e-07 - val_acc: 0.9965\n",
            "Epoch 16/50\n",
            "1936574/1936574 [==============================] - 45s 23us/step - loss: 1.2227e-06 - acc: 0.9918 - val_loss: 1.3124e-06 - val_acc: 0.9893\n",
            "Epoch 17/50\n",
            "1936574/1936574 [==============================] - 45s 23us/step - loss: 1.1720e-06 - acc: 0.9920 - val_loss: 9.1151e-07 - val_acc: 0.9893\n",
            "Epoch 18/50\n",
            "1936574/1936574 [==============================] - 44s 23us/step - loss: 1.1421e-06 - acc: 0.9920 - val_loss: 9.3833e-07 - val_acc: 0.9935\n",
            "Epoch 19/50\n",
            "1936574/1936574 [==============================] - 44s 23us/step - loss: 1.1035e-06 - acc: 0.9921 - val_loss: 1.1442e-06 - val_acc: 0.9925\n",
            "Epoch 20/50\n",
            "1936574/1936574 [==============================] - 43s 22us/step - loss: 1.0715e-06 - acc: 0.9922 - val_loss: 1.0836e-06 - val_acc: 0.9948\n",
            "Epoch 00020: early stopping\n"
          ],
          "name": "stdout"
        }
      ]
    },
    {
      "cell_type": "code",
      "metadata": {
        "id": "rH-QjqjnmNRi",
        "colab_type": "code",
        "outputId": "5ed49f54-3dfd-497f-aff6-d7ec297d4c66",
        "colab": {
          "base_uri": "https://localhost:8080/",
          "height": 590
        }
      },
      "source": [
        "# list all data in history\n",
        "print(history.history.keys())\n",
        "# summarize history for accuracy\n",
        "plt.plot(history.history['acc'])\n",
        "plt.plot(history.history['val_acc'])\n",
        "plt.title('model accuracy')\n",
        "plt.ylabel('accuracy')\n",
        "plt.xlabel('epoch')\n",
        "plt.legend(['train', 'test'], loc='upper left')\n",
        "plt.show()\n",
        "# summarize history for loss\n",
        "plt.plot(history.history['loss'])\n",
        "plt.plot(history.history['val_loss'])\n",
        "plt.title('model loss')\n",
        "plt.ylabel('loss')\n",
        "plt.xlabel('epoch')\n",
        "plt.legend(['train', 'test'], loc='upper left')\n",
        "plt.show()"
      ],
      "execution_count": 0,
      "outputs": [
        {
          "output_type": "stream",
          "text": [
            "['acc', 'loss', 'val_acc', 'val_loss']\n"
          ],
          "name": "stdout"
        },
        {
          "output_type": "display_data",
          "data": {
            "image/png": "[encoded data removed]",
            "text/plain": [
              "<Figure size 432x288 with 1 Axes>"
            ]
          },
          "metadata": {
            "tags": []
          }
        },
        {
          "output_type": "display_data",
          "data": {
            "image/png": "[encoded data removed]",
            "text/plain": [
              "<Figure size 432x288 with 1 Axes>"
            ]
          },
          "metadata": {
            "tags": []
          }
        }
      ]
    },
    {
      "cell_type": "code",
      "metadata": {
        "id": "81rbJgN0Ow0S",
        "colab_type": "code",
        "colab": {}
      },
      "source": [
        "encoder_mix_model = keras.models.load_model('DarkMachine_encoder-mix.model')\n",
        "vae_mix_model = keras.models.load_model('DarkMachine_autoencoder-mix.model')"
      ],
      "execution_count": 0,
      "outputs": []
    },
    {
      "cell_type": "code",
      "metadata": {
        "id": "c-PiOivFUq2N",
        "colab_type": "code",
        "colab": {}
      },
      "source": [
        "# Mixed Encoder as input, using Mixed Data\n",
        "# Training Input\n",
        "x_train_encoded_mix = encoder_mix_model.predict(X_Mix_train_N, batch_size=batch_size)\n",
        "# Testing Input\n",
        "x_test_encoded_mix = encoder_mix_model.predict(X_Mix_test_N, batch_size=batch_size)"
      ],
      "execution_count": 0,
      "outputs": []
    },
    {
      "cell_type": "markdown",
      "metadata": {
        "id": "XYArWfOgpyjZ",
        "colab_type": "text"
      },
      "source": [
        "## Binary Classifier with Mixed Encoder Input"
      ]
    },
    {
      "cell_type": "code",
      "metadata": {
        "id": "o0mEVX-RWjyN",
        "colab_type": "code",
        "outputId": "14029705-b141-4453-8e1f-85cb38e43c7a",
        "colab": {
          "base_uri": "https://localhost:8080/",
          "height": 885
        }
      },
      "source": [
        "# Binary Classifer Training/Testing (Sequential)\n",
        "## Classifer can be used for both VAE's \n",
        "history = biclass.fit(x_train_encoded_mix[0], \n",
        "                      y_Mix_train_N, \n",
        "                      batch_size=batch_size, \n",
        "                      epochs=epochs,\n",
        "                      validation_split=0.2,\n",
        "                      callbacks=[es])\n",
        "                      #validation_data=(x_test_encoded_mix[0], y_Mix_test_N))\n",
        "\n",
        "\n",
        "biclass.save_weights('bi-mix-weights.h5')\n",
        "biclass.save('binary-mix-class.model')"
      ],
      "execution_count": 0,
      "outputs": [
        {
          "output_type": "stream",
          "text": [
            "Train on 1936574 samples, validate on 484144 samples\n",
            "Epoch 1/50\n",
            "1936574/1936574 [==============================] - 25s 13us/step - loss: 0.1431 - acc: 0.9497 - val_loss: 0.1172 - val_acc: 0.9575\n",
            "Epoch 2/50\n",
            "1936574/1936574 [==============================] - 24s 12us/step - loss: 0.1135 - acc: 0.9592 - val_loss: 0.1100 - val_acc: 0.9603\n",
            "Epoch 3/50\n",
            "1936574/1936574 [==============================] - 25s 13us/step - loss: 0.1087 - acc: 0.9608 - val_loss: 0.1071 - val_acc: 0.9612\n",
            "Epoch 4/50\n",
            "1936574/1936574 [==============================] - 25s 13us/step - loss: 0.1054 - acc: 0.9620 - val_loss: 0.1046 - val_acc: 0.9618\n",
            "Epoch 5/50\n",
            "1936574/1936574 [==============================] - 25s 13us/step - loss: 0.1033 - acc: 0.9629 - val_loss: 0.1029 - val_acc: 0.9631\n",
            "Epoch 6/50\n",
            "1936574/1936574 [==============================] - 24s 12us/step - loss: 0.1022 - acc: 0.9633 - val_loss: 0.1023 - val_acc: 0.9630\n",
            "Epoch 7/50\n",
            "1936574/1936574 [==============================] - 25s 13us/step - loss: 0.1012 - acc: 0.9637 - val_loss: 0.1007 - val_acc: 0.9639\n",
            "Epoch 8/50\n",
            "1936574/1936574 [==============================] - 24s 12us/step - loss: 0.1004 - acc: 0.9641 - val_loss: 0.1003 - val_acc: 0.9640\n",
            "Epoch 9/50\n",
            "1936574/1936574 [==============================] - 24s 12us/step - loss: 0.0998 - acc: 0.9643 - val_loss: 0.0993 - val_acc: 0.9645\n",
            "Epoch 10/50\n",
            "1936574/1936574 [==============================] - 24s 13us/step - loss: 0.0993 - acc: 0.9646 - val_loss: 0.0992 - val_acc: 0.9643\n",
            "Epoch 11/50\n",
            "1936574/1936574 [==============================] - 25s 13us/step - loss: 0.0988 - acc: 0.9647 - val_loss: 0.0990 - val_acc: 0.9646\n",
            "Epoch 12/50\n",
            "1936574/1936574 [==============================] - 25s 13us/step - loss: 0.0984 - acc: 0.9649 - val_loss: 0.0981 - val_acc: 0.9649\n",
            "Epoch 13/50\n",
            "1936574/1936574 [==============================] - 25s 13us/step - loss: 0.0982 - acc: 0.9650 - val_loss: 0.0977 - val_acc: 0.9650\n",
            "Epoch 14/50\n",
            "1936574/1936574 [==============================] - 25s 13us/step - loss: 0.0979 - acc: 0.9652 - val_loss: 0.0981 - val_acc: 0.9650\n",
            "Epoch 15/50\n",
            "1936574/1936574 [==============================] - 25s 13us/step - loss: 0.0976 - acc: 0.9653 - val_loss: 0.0989 - val_acc: 0.9648\n",
            "Epoch 16/50\n",
            "1936574/1936574 [==============================] - 26s 13us/step - loss: 0.0973 - acc: 0.9654 - val_loss: 0.0972 - val_acc: 0.9653\n",
            "Epoch 17/50\n",
            "1936574/1936574 [==============================] - 26s 13us/step - loss: 0.0972 - acc: 0.9655 - val_loss: 0.0971 - val_acc: 0.9655\n",
            "Epoch 18/50\n",
            "1936574/1936574 [==============================] - 25s 13us/step - loss: 0.0971 - acc: 0.9655 - val_loss: 0.0979 - val_acc: 0.9649\n",
            "Epoch 19/50\n",
            "1936574/1936574 [==============================] - 25s 13us/step - loss: 0.0970 - acc: 0.9655 - val_loss: 0.0985 - val_acc: 0.9650\n",
            "Epoch 20/50\n",
            "1936574/1936574 [==============================] - 25s 13us/step - loss: 0.0969 - acc: 0.9655 - val_loss: 0.0970 - val_acc: 0.9653\n",
            "Epoch 21/50\n",
            "1936574/1936574 [==============================] - 25s 13us/step - loss: 0.0969 - acc: 0.9656 - val_loss: 0.0967 - val_acc: 0.9656\n",
            "Epoch 22/50\n",
            "1936574/1936574 [==============================] - 25s 13us/step - loss: 0.0967 - acc: 0.9657 - val_loss: 0.0968 - val_acc: 0.9655\n",
            "Epoch 23/50\n",
            "1936574/1936574 [==============================] - 25s 13us/step - loss: 0.0967 - acc: 0.9657 - val_loss: 0.0973 - val_acc: 0.9652\n",
            "Epoch 24/50\n",
            "1936574/1936574 [==============================] - 25s 13us/step - loss: 0.0967 - acc: 0.9657 - val_loss: 0.0968 - val_acc: 0.9655\n",
            "Epoch 00024: early stopping\n"
          ],
          "name": "stdout"
        }
      ]
    },
    {
      "cell_type": "code",
      "metadata": {
        "id": "mk1yUDEpXeBi",
        "colab_type": "code",
        "outputId": "fddcf577-2766-49fb-f9fd-6d4cb7d6ee0d",
        "colab": {
          "base_uri": "https://localhost:8080/",
          "height": 590
        }
      },
      "source": [
        "# list all data in history\n",
        "print(history.history.keys())\n",
        "# summarize history for accuracy\n",
        "plt.plot(history.history['acc'])\n",
        "plt.plot(history.history['val_acc'])\n",
        "plt.title('model accuracy')\n",
        "plt.ylabel('accuracy')\n",
        "plt.xlabel('epoch')\n",
        "plt.legend(['train', 'test'], loc='upper left')\n",
        "plt.show()\n",
        "# summarize history for loss\n",
        "plt.plot(history.history['loss'])\n",
        "plt.plot(history.history['val_loss'])\n",
        "plt.title('model loss')\n",
        "plt.ylabel('loss')\n",
        "plt.xlabel('epoch')\n",
        "plt.legend(['train', 'test'], loc='upper left')\n",
        "plt.show()"
      ],
      "execution_count": 0,
      "outputs": [
        {
          "output_type": "stream",
          "text": [
            "['acc', 'loss', 'val_acc', 'val_loss']\n"
          ],
          "name": "stdout"
        },
        {
          "output_type": "display_data",
          "data": {
            "image/png": "[encoded data removed]",
            "text/plain": [
              "<Figure size 432x288 with 1 Axes>"
            ]
          },
          "metadata": {
            "tags": []
          }
        },
        {
          "output_type": "display_data",
          "data": {
            "image/png": "[encoded data removed]",
            "text/plain": [
              "<Figure size 432x288 with 1 Axes>"
            ]
          },
          "metadata": {
            "tags": []
          }
        }
      ]
    },
    {
      "cell_type": "code",
      "metadata": {
        "id": "G47113s1XoWY",
        "colab_type": "code",
        "colab": {}
      },
      "source": [
        "bi_mix_classifier = keras.models.load_model('binary-mix-class.model')\n",
        "\n",
        "pred_mix_x = bi_mix_classifier.predict(x_test_encoded_mix[0])"
      ],
      "execution_count": 0,
      "outputs": []
    },
    {
      "cell_type": "markdown",
      "metadata": {
        "id": "s1BiJFOKYSns",
        "colab_type": "text"
      },
      "source": [
        "## Mixed Input Binary Classifier ROC Curve"
      ]
    },
    {
      "cell_type": "code",
      "metadata": {
        "id": "sRCdAJEtYEye",
        "colab_type": "code",
        "outputId": "22532d25-0984-44b2-cb99-e026540bdf3b",
        "colab": {
          "base_uri": "https://localhost:8080/",
          "height": 283
        }
      },
      "source": [
        "fpr_mb, tpr_mb, _ = roc_curve(y_Mix_test_N, pred_mix_x)\n",
        "\n",
        "roc_auc_mb = auc(fpr_mb, tpr_mb)\n",
        "\n",
        "plt.plot(fpr_mb,tpr_mb,color='darkorange',label='ROC curve (area = %0.2f)' % roc_auc_mb)\n",
        "plt.legend(loc=\"lower right\")\n",
        "plt.xlabel('False Positive Rate')\n",
        "plt.ylabel('True Positive Rate')\n",
        "\n",
        "plt.show()"
      ],
      "execution_count": 0,
      "outputs": [
        {
          "output_type": "display_data",
          "data": {
            "image/png": "[encoded data removed]",
            "text/plain": [
              "<Figure size 432x288 with 1 Axes>"
            ]
          },
          "metadata": {
            "tags": []
          }
        }
      ]
    },
    {
      "cell_type": "markdown",
      "metadata": {
        "id": "18Lz2G-caQWA",
        "colab_type": "text"
      },
      "source": [
        "## Histogram & ROC Curve of Mixed VAE"
      ]
    },
    {
      "cell_type": "code",
      "metadata": {
        "id": "i11MIuZGYRyl",
        "colab_type": "code",
        "outputId": "8d5ac1d1-9b41-4954-e1d2-ee839098d2e3",
        "colab": {
          "base_uri": "https://localhost:8080/",
          "height": 34
        }
      },
      "source": [
        "vae_mix_predict_x = vae_mix_model.predict(X_Mix_test_N)\n",
        "predict_loss_mse = np.mean(np.power(X_Mix_test_N - vae_mix_predict_x, 2), axis=1)\n",
        "predict_loss_mse = predict_loss_mse.reshape(806907,1)\n",
        "predict_loss_mse.shape"
      ],
      "execution_count": 0,
      "outputs": [
        {
          "output_type": "execute_result",
          "data": {
            "text/plain": [
              "(806907, 1)"
            ]
          },
          "metadata": {
            "tags": []
          },
          "execution_count": 42
        }
      ]
    },
    {
      "cell_type": "code",
      "metadata": {
        "id": "eod24cWecM8R",
        "colab_type": "code",
        "colab": {}
      },
      "source": [
        "from sklearn.preprocessing import StandardScaler, RobustScaler\n",
        "\n",
        "predict_loss=predict_loss_mse\n",
        "tf_loss=StandardScaler().fit(predict_loss.reshape(-1,1))\n",
        "predict_loss=tf_loss.transform(predict_loss.reshape(-1,1))"
      ],
      "execution_count": 0,
      "outputs": []
    },
    {
      "cell_type": "code",
      "metadata": {
        "id": "7FPeQwv7cSdO",
        "colab_type": "code",
        "outputId": "df9cc4cf-9a00-4933-afd3-102e2faa473f",
        "colab": {
          "base_uri": "https://localhost:8080/",
          "height": 281
        }
      },
      "source": [
        "sigPred = predict_loss[np.where(y_Mix_test==1)]\n",
        "bkgPred = predict_loss[np.where(y_Mix_test==0)]\n",
        "fig = plt.hist(sigPred, bins=100, histtype='step', label='signal_loss', normed= 1)\n",
        "fig = plt.hist(bkgPred, bins=100, histtype='step', color= 'red', label='background_loss', normed= 1)\n",
        "fig = plt.yscale('log')\n",
        "fig = plt.legend(loc= 'upper right')\n",
        "fig = plt.title('loss distribution')"
      ],
      "execution_count": 0,
      "outputs": [
        {
          "output_type": "display_data",
          "data": {
            "image/png": "[encoded data removed]",
            "text/plain": [
              "<Figure size 432x288 with 1 Axes>"
            ]
          },
          "metadata": {
            "tags": []
          }
        }
      ]
    },
    {
      "cell_type": "code",
      "metadata": {
        "id": "T_wvP3jMcajm",
        "colab_type": "code",
        "outputId": "c2b4b22b-ca4d-4ec1-9ec2-985ffbc83ca0",
        "colab": {
          "base_uri": "https://localhost:8080/",
          "height": 323
        }
      },
      "source": [
        "from sklearn.metrics import roc_auc_score\n",
        "\n",
        "fpr_vae_mix, tpr_vae_mix, thresholds_vae_mix = roc_curve(y_Mix_test, predict_loss)\n",
        "roc_auc = roc_auc_score(y_Mix_test, predict_loss)\n",
        "print(\"roc_auc =\", roc_auc_score(y_Mix_test, predict_loss))\n",
        "\n",
        "plt.plot(tpr_vae_mix, 1/fpr_vae_mix, color = 'darkorange', label='ROC curve (area = %0.2f)' % roc_auc)\n",
        "plt.xlim(0.1, 1.0)\n",
        "plt.ylim(1, 10000)\n",
        "plt.yscale(\"log\")\n",
        "plt.grid()\n",
        "plt.show()"
      ],
      "execution_count": 0,
      "outputs": [
        {
          "output_type": "stream",
          "text": [
            "('roc_auc =', 0.6111050688110579)\n"
          ],
          "name": "stdout"
        },
        {
          "output_type": "stream",
          "text": [
            "/usr/local/lib/python2.7/dist-packages/ipykernel_launcher.py:7: RuntimeWarning: divide by zero encountered in divide\n",
            "  import sys\n"
          ],
          "name": "stderr"
        },
        {
          "output_type": "display_data",
          "data": {
            "image/png": "[encoded data removed]",
            "text/plain": [
              "<Figure size 432x288 with 1 Axes>"
            ]
          },
          "metadata": {
            "tags": []
          }
        }
      ]
    }
  ]
}